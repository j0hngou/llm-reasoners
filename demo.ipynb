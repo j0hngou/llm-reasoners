{
 "cells": [
  {
   "cell_type": "markdown",
   "id": "dbd5ffec90738522",
   "metadata": {
    "collapsed": false
   },
   "source": [
    "# LLM-Reasoners Demo\n",
    "## Setup\n",
    "Set cuda device and initialize an ExllamaModel use our unified LLM interface."
   ]
  },
  {
   "cell_type": "code",
   "execution_count": null,
   "id": "97a9dc24f71ab121",
   "metadata": {
    "collapsed": false
   },
   "outputs": [],
   "source": [
    "import os\n",
    "os.environ['CUDA_VISIBLE_DEVICES'] = '7'"
   ]
  },
  {
   "cell_type": "code",
   "execution_count": null,
   "id": "1baf72f047599ea3",
   "metadata": {
    "collapsed": false
   },
   "outputs": [],
   "source": [
    "from reasoners.lm import ExLlamaModel\n",
    "import torch\n",
    "\n",
    "model = ExLlamaModel(model_dir='/data/yi/Llama-2-70B-GPTQ',\n",
    "                     lora_dir=None,\n",
    "                     device = torch.device(\"cuda:0\"),\n",
    "                     max_batch_size=1,\n",
    "                     max_new_tokens=200,\n",
    "                     mem_map=None,\n",
    "                     max_seq_length=2048)\n",
    "# HFModel(llama_path, llama_path, device=device, max_batch_size=1, max_new_tokens=512, quantized=quantized, peft_pth=peft_path, load_awq_pth=load_awq_pth)\n",
    "# Llama2Model(llama2_ckpts, llama_size, max_batch_size=1)\n",
    "# OpenAIModel(openai_mode)\n",
    "# ClaudeModel('claude-3-opus-20240229')"
   ]
  },
  {
   "cell_type": "markdown",
   "id": "d793476fcd72d193",
   "metadata": {
    "collapsed": false
   },
   "source": [
    "We gather one example from the Blocksworld dataset, and the proper prompt for in-context learning examples.\n",
    "We will talk more about Evaluators later."
   ]
  },
  {
   "cell_type": "code",
   "execution_count": null,
   "id": "48ab7cb1a4514699",
   "metadata": {
    "collapsed": false
   },
   "outputs": [],
   "source": [
    "from reasoners.benchmark import BWEvaluator\n",
    "import json\n",
    "\n",
    "with open('examples/blocksworld/prompts/pool_prompt_v1.json') as f:\n",
    "    prompt = json.load(f)\n",
    "evaluator = BWEvaluator(config_file='examples/blocksworld/data/bw_config.yaml',\n",
    "                        domain_file='examples/blocksworld/data/generated_domain.pddl',\n",
    "                        data_path='examples/blocksworld/data/split_v1/split_v1_step_4_data.json',\n",
    "                        init_prompt=prompt)\n",
    "prompt = evaluator.sample_prompt(shuffle_prompt=False, num_shot=4)\n",
    "example = evaluator.full_dataset[1]\n",
    "cot_inputs = (prompt['icl'].replace('<init_state>', example[\"init\"])\n",
    "                           .replace('<goals>', example[\"goal\"])\n",
    "                           .replace('<action>', ''))"
   ]
  },
  {
   "cell_type": "markdown",
   "id": "cc49cab381592729",
   "metadata": {
    "collapsed": false
   },
   "source": [
    "Here is the example."
   ]
  },
  {
   "cell_type": "code",
   "execution_count": null,
   "id": "ab7d17be8373ae3e",
   "metadata": {
    "collapsed": false
   },
   "outputs": [],
   "source": [
    "print(example['init'])"
   ]
  },
  {
   "cell_type": "code",
   "execution_count": null,
   "id": "7d42ef78fea3bcfc",
   "metadata": {
    "collapsed": false
   },
   "outputs": [],
   "source": [
    "print(example['goal'])"
   ]
  },
  {
   "cell_type": "markdown",
   "id": "e7540875d5de58b5",
   "metadata": {
    "collapsed": false
   },
   "source": [
    "## Chain-of-Thought\n",
    "We first experiment with the Chain-of-Thought method.\n",
    "Since we are having the simplest generation algorithm, we directly ask the model to generate all the steps.\n",
    "We look at the 4-shot prompt and the generated answer."
   ]
  },
  {
   "cell_type": "code",
   "execution_count": null,
   "id": "6a467a187f55cf03",
   "metadata": {
    "collapsed": false
   },
   "outputs": [],
   "source": [
    "print(cot_inputs)"
   ]
  },
  {
   "cell_type": "code",
   "execution_count": null,
   "id": "933ffa650264c50b",
   "metadata": {
    "collapsed": false
   },
   "outputs": [],
   "source": [
    "output = model.generate([cot_inputs],\n",
    "                        hide_input=True,\n",
    "                        eos_token_id='\\n[').text[0][:-1].strip()"
   ]
  },
  {
   "cell_type": "code",
   "execution_count": null,
   "id": "acde323347b1eb9",
   "metadata": {
    "collapsed": false
   },
   "outputs": [],
   "source": [
    "print(output)"
   ]
  },
  {
   "cell_type": "code",
   "execution_count": null,
   "id": "ffaa93bb6ee24586",
   "metadata": {
    "collapsed": false
   },
   "outputs": [],
   "source": [
    "from reasoners import WorldModel, LanguageModel, SearchConfig, State, Reasoner\n",
    "from reasoners.algorithm import BeamSearch, MCTS\n",
    "import reasoners.benchmark.bw_utils as utils\n",
    "from typing import NamedTuple\n",
    "import copy\n",
    "import numpy as np\n",
    "\n",
    "\n",
    "# We use NamedTuple for clearer presentation, you may just use normal tuple if you want a quick experiment.\n",
    "class BWStateToT(NamedTuple):\n",
    "    step_idx: int\n",
    "    action_history: list[str]\n",
    "    end: bool\n",
    "\n",
    "\n",
    "# We just use the description str as the action, we use a type alias for better presentation.\n",
    "# You may directly use str of you want a quick experiment.\n",
    "BWAction = str\n",
    "\n",
    "\n",
    "class BlocksWorldModelToT(WorldModel):\n",
    "    def __init__(self,\n",
    "                 base_model: LanguageModel,\n",
    "                 prompt: dict,\n",
    "                 max_steps: int = 4,\n",
    "                 batch_size: int = 1) -> None:\n",
    "        super().__init__()\n",
    "        self.max_steps = max_steps\n",
    "        self.base_model = base_model\n",
    "        self.prompt = prompt\n",
    "        self.batch_size = batch_size\n",
    "\n",
    "    def init_state(self) -> BWStateToT:\n",
    "        return BWStateToT(step_idx=0, action_history=[], end=False)\n",
    "    \n",
    "    def step(self, state: BWStateToT, action: BWAction) -> tuple[BWStateToT, dict]:\n",
    "        state = copy.deepcopy(state)\n",
    "        if action != \"[PLAN END]\":\n",
    "            state = BWStateToT(step_idx=state.step_idx + 1, action_history=state.action_history + [action], end=False)\n",
    "        else:\n",
    "            state = BWStateToT(step_idx=state.step_idx + 1, action_history=state.action_history, end=True)\n",
    "        return state, {}  # the dict is auxiliary information for SearchConfig, we don't need it here.\n",
    "    \n",
    "    def is_terminal(self, state: State) -> bool:\n",
    "        return state.end or state.step_idx >= self.max_steps\n",
    "\n",
    "\n",
    "class BWConfigToT(SearchConfig):\n",
    "    def __init__(self,\n",
    "                 base_model: LanguageModel,\n",
    "                 prompt: dict,\n",
    "                 temperature: float = 0.8,\n",
    "                 n_candidate: int = 4) -> None:\n",
    "        super().__init__()\n",
    "        self.base_model = base_model\n",
    "        self.example = None\n",
    "        self.prompt = prompt\n",
    "        self.n_candidate = n_candidate\n",
    "        self.temperature = temperature\n",
    "\n",
    "    def get_actions(self, state: BWStateToT) -> list[BWAction]:\n",
    "        prompts = (self.prompt[\"icl\"]\n",
    "                       .replace(\"<action>\", \"\\n\".join(state.action_history + [\"\"]))\n",
    "                       .replace(\"<init_state>\", utils.extract_init_state(self.example))\n",
    "                       .replace(\"<goals>\", utils.extract_goals(self.example, return_raw=True)))\n",
    "        outputs = self.base_model.generate([prompts],\n",
    "                                           num_return_sequences=self.n_candidate,\n",
    "                                           max_length=20,\n",
    "                                           eos_token_id=\"\\n\",\n",
    "                                           temperature=self.temperature,\n",
    "                                           do_sample=True,\n",
    "                                           hide_input=True).text\n",
    "        outputs = [output.split(\"\\n\")[0] for output in outputs]\n",
    "        outputs = list(dict.fromkeys(outputs))  # deduplicate\n",
    "        return outputs\n",
    "\n",
    "    # Some reward functions are fast to calculate.\n",
    "    # We calculate the reward before executing the action, which can be used to better guide the search.\n",
    "    def fast_reward(self, state: BWStateToT, action: BWAction) -> tuple[float, dict]:\n",
    "        # We use two rewards here:\n",
    "        # 1. Intuition: The loglikelihood of the action given the prompt.\n",
    "        # 2. Self-eval: Ask the language model whether this step is \"Good\".\n",
    "        inputs = self.prompt[\"icl\"].replace(\"<action>\", \"\\n\".join(state.action_history + [\"\"])) \\\n",
    "            .replace(\"<init_state>\", utils.extract_init_state(self.example)) \\\n",
    "            .replace(\"<goals>\", utils.extract_goals(self.example, return_raw=True))[:-1]\n",
    "        \n",
    "        intuition = self.base_model.get_loglikelihood(inputs, [inputs + \"\\n\" + action])[0]\n",
    "\n",
    "        self_eval_prompt = (self.prompt[\"self-eval\"].replace(\"<init_state>\", utils.extract_init_state(self.example))\n",
    "                                                    .replace(\"<goals>\", utils.extract_goals(self.example, return_raw=True))\n",
    "                                                    .replace(\"<action>\", action))\n",
    "        self_eval = self.base_model.get_loglikelihood(self_eval_prompt, [self_eval_prompt + \"good\"])[0]\n",
    "\n",
    "        return intuition + self_eval, {'intuition': intuition, \"self_eval\": self_eval}\n",
    "    \n",
    "    # kwargs is the auxiliary information returned by SearchConfig.fast_reward and WorldModel.step,\n",
    "    # so that we do not need duplicated calculations.\n",
    "    # In this case, we just use the fast_reward result as the reward.\n",
    "    # Generally, if a reward function depends on the new state, or is slow to calculate,\n",
    "    # we will calculate it here.\n",
    "    def reward(self, state, action, **kwargs) -> tuple[float, dict]:\n",
    "        return kwargs['intuition'] + kwargs['self_eval'], kwargs"
   ]
  },
  {
   "cell_type": "markdown",
   "id": "fd8d98436b5790a9",
   "metadata": {
    "collapsed": false
   },
   "source": [
    "Once we have defined the world model and the search config, we can easily call Reasoners to get the result."
   ]
  },
  {
   "cell_type": "code",
   "execution_count": null,
   "id": "9b3b2bec8947b3e",
   "metadata": {
    "collapsed": false
   },
   "outputs": [],
   "source": [
    "world_model = BlocksWorldModelToT(base_model=model, prompt=prompt)\n",
    "config = BWConfigToT(base_model=model, prompt=prompt)\n",
    "algorithm = BeamSearch(beam_size=4, max_depth=7)\n",
    "reasoner_tot = Reasoner(world_model=world_model, search_config=config, search_algo=algorithm)\n",
    "result_tot = reasoner_tot(example)\n",
    "print(result_tot)"
   ]
  },
  {
   "cell_type": "code",
   "execution_count": null,
   "id": "ab2f2daa59d50d38",
   "metadata": {
    "collapsed": false
   },
   "outputs": [],
   "source": [
    "print('Action, Reward')\n",
    "for action, _, reward in result_tot.trace:\n",
    "    print(action, reward)"
   ]
  },
  {
   "cell_type": "markdown",
   "id": "518ab7a3d0a829f4",
   "metadata": {
    "collapsed": false
   },
   "source": [
    "## Tree-of-Thought\n",
    "Then let's turn to a tree search algorithm, as introduced by Tree-of-Thought.\n",
    "We will need to define a simple world model, and a search algorithm, for the Blocksworld task."
   ]
  },
  {
   "cell_type": "markdown",
   "id": "2093768cbd94dbee",
   "metadata": {
    "collapsed": false
   },
   "source": [
    "## RAP\n",
    "In RAP, we are truly using the latest block configuration as the state, instead of a history of actions.\n",
    "Thus, we define a new world model to transit between states, which is just a little complex than the previous one."
   ]
  },
  {
   "cell_type": "code",
   "execution_count": null,
   "id": "4db36c24eab92e95",
   "metadata": {
    "collapsed": false
   },
   "outputs": [],
   "source": [
    "BWAction = str\n",
    "\n",
    "\n",
    "class BWStateRAP(NamedTuple):\n",
    "    step_idx: int\n",
    "    last_blocks_state: str\n",
    "    blocks_state: str\n",
    "    buffered_action: BWAction\n",
    "\n",
    "\n",
    "class BlocksWorldModelRAP(WorldModel):\n",
    "    def __init__(self,\n",
    "                 base_model: LanguageModel,\n",
    "                 prompt: dict,\n",
    "                 max_steps: int = 4,\n",
    "                 batch_size: int = 1) -> None:\n",
    "        super().__init__()\n",
    "        self.max_steps = max_steps\n",
    "        self.base_model = base_model\n",
    "        self.prompt = prompt\n",
    "        self.batch_size = batch_size\n",
    "\n",
    "    def init_state(self) -> BWStateRAP:\n",
    "        return BWStateRAP(step_idx=0, last_blocks_state=\"\", blocks_state=utils.\n",
    "                       extract_init_state(self.example), buffered_action=\"\")\n",
    "\n",
    "    def step(self, state: BWStateRAP, action: BWAction) -> tuple[BWStateRAP, dict]:\n",
    "        state = copy.deepcopy(state)\n",
    "        blocks_state = state.blocks_state\n",
    "        step_idx = state.step_idx\n",
    "        blocks_state = self.update_blocks(blocks_state, action)\n",
    "        new_buffered_action = action if state.buffered_action == \"\" else \"\"\n",
    "\n",
    "        state = BWStateRAP(step_idx=step_idx + 1,\n",
    "                        last_blocks_state=state.blocks_state,\n",
    "                        blocks_state=blocks_state,\n",
    "                        buffered_action=new_buffered_action)\n",
    "        return state, {\"goal_reached\": utils.goal_check(utils.extract_goals(self.example), blocks_state)}\n",
    "\n",
    "    def update_blocks(self, block_states: str, action: BWAction) -> str:\n",
    "        if \"pick\" in action:\n",
    "            key = \"world_update_pickup\"\n",
    "        elif \"unstack\" in action:\n",
    "            key = \"world_update_unstack\"\n",
    "        elif \"put\" in action:\n",
    "            key = \"world_update_putdown\"\n",
    "        elif \"stack\" in action:\n",
    "            key = \"world_update_stack\"\n",
    "        else:\n",
    "            raise ValueError(\"Invalid action\")\n",
    "        world_update_prompt = self.prompt[key].format(block_states, action.capitalize() + \".\")\n",
    "        world_output = self.base_model.generate([world_update_prompt],\n",
    "                                                eos_token_id=\"\\n\",\n",
    "                                                hide_input=True,\n",
    "                                                temperature=0).text[0].strip()\n",
    "        new_state = utils.apply_change(world_output, block_states)\n",
    "        return new_state\n",
    "\n",
    "    def is_terminal(self, state: BWStateRAP) -> bool:\n",
    "        if utils.goal_check(utils.extract_goals(self.example), state.blocks_state)[0]:\n",
    "            return True\n",
    "        elif state.step_idx == self.max_steps:\n",
    "            return True\n",
    "        return False"
   ]
  },
  {
   "cell_type": "code",
   "execution_count": null,
   "id": "884e9c962952d37b",
   "metadata": {
    "collapsed": false
   },
   "outputs": [],
   "source": [
    "class BWConfigRAP(SearchConfig):\n",
    "    def __init__(self,\n",
    "                 base_model: LanguageModel,\n",
    "                 prompt: dict,\n",
    "                 batch_size: int = 1,\n",
    "                 reward_alpha: float = 0.5,\n",
    "                 goal_reward_default: float = 0.,\n",
    "                 goal_reached_reward: float = 100.) -> None:\n",
    "        super().__init__()\n",
    "        self.base_model = base_model\n",
    "        self.example = None\n",
    "        self.prompt = prompt\n",
    "        self.batch_size = batch_size\n",
    "        self.reward_alpha = reward_alpha\n",
    "        self.goal_reward_default = goal_reward_default\n",
    "        self.goal_reached_reward = goal_reached_reward\n",
    "\n",
    "    def get_actions(self, state: BWStateRAP) -> list[BWAction]:\n",
    "        blocks_state = state.blocks_state\n",
    "        return utils.generate_all_actions(blocks_state)\n",
    "\n",
    "    def fast_reward(self, state: BWStateRAP, action: BWAction) -> tuple[float, dict]:\n",
    "        if state.buffered_action == \"\":\n",
    "            current_blocks_state = state.blocks_state\n",
    "        else:\n",
    "            current_blocks_state = state.last_blocks_state\n",
    "        previous_action = state.buffered_action + \"\\n\" if state.buffered_action != \"\" else \"\"\n",
    "        \n",
    "        # every two steps, we will also reduce the icl examples by 2 steps\n",
    "        # so that the distribution of step length in examples is more reasonable\n",
    "        icl_template = self.prompt[\"icl_list\"][state.step_idx // 2]\n",
    "        \n",
    "        inputs = (icl_template.replace(\"<init_state>\", current_blocks_state)\n",
    "                              .replace(\"<goals>\", utils.extract_goals(self.example, return_raw=True))\n",
    "                              .replace(\"<action>\", previous_action))\n",
    "        intuition = self.base_model.get_loglikelihood(inputs, [inputs + action])[0]\n",
    "\n",
    "        self_eval_prompt = (self.prompt[\"self-eval\"]\n",
    "                                .replace(\"<init_state>\", current_blocks_state)\n",
    "                                .replace(\"<goals>\", utils.extract_goals(self.example, return_raw=True))\n",
    "                                .replace(\"<action>\", action))\n",
    "        self_eval = self.base_model.get_loglikelihood(self_eval_prompt, [self_eval_prompt + \"good\"])[0]\n",
    "\n",
    "        return (self.calculate_reward(intuition, self_eval),\n",
    "                {'intuition': intuition, \"self_eval\": self_eval})\n",
    "\n",
    "    def calculate_reward(self, intuition, self_eval, goal_reached=None) -> float:\n",
    "        # to provide a unified interface for reward and fast_reward\n",
    "        if goal_reached is None:\n",
    "            goal_reward = self.goal_reward_default\n",
    "        elif goal_reached[0]:\n",
    "            goal_reward = self.goal_reached_reward\n",
    "        else:\n",
    "            goal_reward = goal_reached[1]\n",
    "        return (intuition + self_eval) * self.reward_alpha + goal_reward * (1 - self.reward_alpha)\n",
    "\n",
    "    def reward(self, state: BWStateRAP, action: BWAction,\n",
    "               intuition: float = None,\n",
    "               self_eval: float = None,\n",
    "               goal_reached: tuple[bool, float] = None) -> tuple[float, dict]:\n",
    "        return (self.calculate_reward(intuition, self_eval, goal_reached),\n",
    "                {'intuition': intuition, 'goal_reached': goal_reached})"
   ]
  },
  {
   "cell_type": "markdown",
   "id": "28a97d5bdf453a8e",
   "metadata": {
    "collapsed": false
   },
   "source": [
    "We just use the MCTS algorithm embedded in Reasoners, and build up the pipeline again."
   ]
  },
  {
   "cell_type": "code",
   "execution_count": null,
   "id": "70e0d64c166c5ccc",
   "metadata": {
    "collapsed": false
   },
   "outputs": [],
   "source": [
    "world_model = BlocksWorldModelRAP(base_model=model, prompt=prompt, max_steps=4)\n",
    "config = BWConfigRAP(base_model=model, prompt=prompt)\n",
    "algorithm = MCTS(depth_limit=4, disable_tqdm=False, output_trace_in_each_iter=True, n_iters=10)\n",
    "reasoner_rap = Reasoner(world_model=world_model, search_config=config, search_algo=algorithm)\n",
    "result_rap = reasoner_rap(example)\n",
    "print(result_rap)"
   ]
  },
  {
   "cell_type": "code",
   "execution_count": null,
   "id": "3f540139",
   "metadata": {},
   "outputs": [],
   "source": [
    "result_rap.trace"
   ]
  },
  {
   "cell_type": "markdown",
   "id": "97e6c930da69ea10",
   "metadata": {
    "collapsed": false
   },
   "source": [
    "## Visualization"
   ]
  },
  {
   "cell_type": "code",
   "execution_count": 4,
   "id": "76c3ec21",
   "metadata": {},
   "outputs": [],
   "source": [
    "import pickle\n",
    "import torch\n",
    "from typing import Union, Tuple, NamedTuple, Callable\n",
    "import reasoners.benchmark.gw_utils as utils\n",
    "from reasoners import WorldModel, LanguageModel\n",
    "import copy\n",
    "import json\n",
    "\n",
    "\n",
    "GWAction = str\n",
    "\n",
    "class CausalMapper(Callable):\n",
    "    def __init__(self, causal_mapper, mean, std, target_assignment):\n",
    "        self.causal_mapper = causal_mapper.eval()\n",
    "        self.mean = mean.to(causal_mapper.device)\n",
    "        self.std = std.to(causal_mapper.device)\n",
    "        self.target_assignment = target_assignment.to(causal_mapper.device)\n",
    "        self.mapping = {0: 0, 1: 0, 2: 1, 3: 2, 4: 3, 5: 4, 6: 5, 7: 6, 8 : 7} # TODO: make this a parameter\n",
    "        \n",
    "    def __call__(self, latents):\n",
    "        latents = (latents - self.mean) / self.std\n",
    "        latents = self._prepare_input(latents, self.target_assignment)\n",
    "        res = self.causal_mapper(latents)\n",
    "        res = {key: value[i, :].argmax(-1).item() if value.shape[1] == 2 else value[i, :].item() for i, (key, value) in zip(self.mapping.values(), res.items())}\n",
    "        return list(res.values())\n",
    "    \n",
    "    def _prepare_input(self, latents, target_assignment, flatten_inp=True):\n",
    "        ta = target_assignment.detach()[None,:,:].expand(latents.shape[0], -1, -1)\n",
    "        latents = torch.cat([latents[:,:,None] * ta, ta], dim=-2).permute(0, 2, 1)\n",
    "        if flatten_inp:\n",
    "            latents = latents.flatten(0, 1)\n",
    "        return latents\n",
    "        \n",
    "class GWState(NamedTuple):\n",
    "    \"\"\"The state of the Blocksworld.\n",
    "    \n",
    "    See the docstring of BlocksWorldModel for more details.\n",
    "    \"\"\"\n",
    "    step_idx: int\n",
    "    image: torch.Tensor\n",
    "    description: str\n",
    "    latents: torch.Tensor = None\n",
    "\n",
    "class CausalWorldModel(WorldModel):\n",
    "    def __init__(self, crl_model, causal_mapper, cm_mean, cm_std, target_assignment, nl_model, tokenizer, device, max_steps=6, config_file=None):\n",
    "        super().__init__()\n",
    "        # self.autoencoder = autoencoder\n",
    "        self.crl_model = crl_model.eval()\n",
    "        self.causal_mapper = CausalMapper(causal_mapper.to(self.crl_model.device), cm_mean, cm_std, target_assignment)\n",
    "        self.nl_model = nl_model\n",
    "        self.tokenizer = tokenizer\n",
    "        self.device = device\n",
    "        self.max_steps = max_steps\n",
    "        self.keys = json.load(open(config_file, 'r'))['flattened_causals']\n",
    "\n",
    "    def init_state(self, initial_image: torch.Tensor) -> Tuple[torch.Tensor, str]:\n",
    "        \"\"\"\n",
    "        Initialize the state with an image, encode it to latent, transform it,\n",
    "        and generate the natural language description of the initial state.\n",
    "        \"\"\"\n",
    "        initial_image = (initial_image * 2.0) - 1.0\n",
    "        latents = self.crl_model.autoencoder.encoder(initial_image[None].to(self.device))\n",
    "        disentangled_latents, _ = self.crl_model.flow.forward(latents)\n",
    "        causal_variables = self.causal_mapper(disentangled_latents)\n",
    "        description = self.map_to_language(causal_variables)\n",
    "        return (disentangled_latents, description)\n",
    "\n",
    "    @torch.no_grad()\n",
    "    def step(self, state: GWState, action: str) -> Tuple[Tuple[torch.Tensor, str], dict]:\n",
    "        \"\"\"\n",
    "        Update the state based on the action.\n",
    "        \"\"\"\n",
    "        if state.latents is None:\n",
    "            image = (state.image * 2.0) - 1.0\n",
    "            current_latents = self.crl_model.autoencoder.encoder(image[None].to(self.device))\n",
    "            current_latents, _ = self.crl_model.flow.forward(current_latents)\n",
    "        else:\n",
    "            current_latents = state.latents\n",
    "        tokenized_description = self.tokenizer(action, return_token_type_ids=True, padding='max_length', max_length=64)\n",
    "        input_ids = torch.tensor(tokenized_description['input_ids']).to(self.device)\n",
    "        token_type_ids = torch.tensor(tokenized_description['token_type_ids']).to(self.device)\n",
    "        attention_mask = torch.tensor(tokenized_description['attention_mask']).to(self.device)\n",
    "        tokenized_description = {'input_ids': input_ids, 'token_type_ids': token_type_ids, 'attention_mask': attention_mask}\n",
    "        new_latents, _ = self.crl_model.prior_t1.sample(current_latents, tokenized_description=tokenized_description, action=torch.empty(1).to(self.device))\n",
    "        new_latents = new_latents.squeeze(1)\n",
    "        causal_variables = self.causal_mapper(new_latents)\n",
    "        new_description = self.map_to_language(causal_variables)\n",
    "        new_state = GWState(step_idx=state.step_idx + 1, image=None, description=new_description, latents=new_latents)\n",
    "        return new_state, {'goal_reached' : utils.goal_check(utils.extract_goals(self.example), new_description, ignore_obstacles=True)}\n",
    "\n",
    "    def is_terminal(self, state: Tuple[torch.Tensor, str]) -> bool:\n",
    "        if utils.goal_check(utils.extract_goals(self.example), state.description, ignore_obstacles=True)[0]:\n",
    "            return True\n",
    "        elif state.step_idx == self.max_steps:\n",
    "            return True\n",
    "        return False\n",
    "        # if len(state) > 0:\n",
    "        #     generated_ans = ''.join([x.action for x in state])\n",
    "        #     return \"[invalid]\" != extract_answer(generated_ans)\n",
    "        # return False\n",
    "\n",
    "    def map_to_language(self, causals: torch.Tensor) -> str:\n",
    "        \"\"\"\n",
    "        Map the causal variables to a natural language description using the language model.\n",
    "        \"\"\"\n",
    "        return utils.describe_latent(causals, self.keys)\n",
    "\n",
    "    def init_state(self) -> GWState:\n",
    "        \"\"\"Initialize the world model.\n",
    "\n",
    "        :return: the initial state\n",
    "        \"\"\"\n",
    "        return GWState(step_idx=0, image=self.example['images'][0], description=utils.\n",
    "                       extract_init_state(self.example))\n",
    "\n",
    "import sys\n",
    "import types\n",
    "\n",
    "# Create a new module\n",
    "module = types.ModuleType('world_model')\n",
    "sys.modules['world_model'] = module\n",
    "\n",
    "# Attach classes to the module correctly\n",
    "setattr(module, 'GWState', GWState)\n",
    "setattr(module, 'CausalWorldModel', CausalWorldModel)\n",
    "\n",
    "# Ensure you are using the module where required\n",
    "import world_model\n",
    "\n",
    "import torch\n",
    "\n",
    "\n",
    "result_rap = pickle.load(open('/home/john/PhD/BISCUIT/llm-reasoners/logs/gridworld_MCTS/05162024-020758/algo_output/1.pkl', 'rb'))"
   ]
  },
  {
   "cell_type": "code",
   "execution_count": 77,
   "id": "eb852e28f78e630c",
   "metadata": {
    "ExecuteTime": {
     "end_time": "2024-03-11T05:19:20.380716Z",
     "start_time": "2024-03-11T05:19:19.723124Z"
    },
    "collapsed": false
   },
   "outputs": [
    {
     "name": "stderr",
     "output_type": "stream",
     "text": [
      "/home/john/miniconda3/envs/biscuit/lib/python3.11/site-packages/pytorch_lightning/utilities/migration/utils.py:55: PossibleUserWarning:\n",
      "\n",
      "The loaded checkpoint was produced with Lightning v2.1.0, which is newer than your current Lightning version: v2.0.9.post0\n",
      "\n"
     ]
    },
    {
     "name": "stdout",
     "output_type": "stream",
     "text": [
      "Visualizer URL: https://www.llm-reasoners.net/visualizer/a4cadd4a-c63a-412b-9ee1-4c3373f892ab?accessKey=f2d54cca\n"
     ]
    }
   ],
   "source": [
    "from reasoners.visualization import visualize\n",
    "from reasoners.visualization.tree_snapshot import NodeData, EdgeData\n",
    "from reasoners.algorithm.mcts import MCTSNode\n",
    "from PIL import Image\n",
    "import io\n",
    "import base64\n",
    "import torch\n",
    "import numpy as np\n",
    "import sys\n",
    "sys.path.append('../')\n",
    "from models.biscuit_nf import BISCUITNF\n",
    "from typing import List, Tuple, Dict, Any, Union, Optional\n",
    "\n",
    "device = 'cuda' if torch.cuda.is_available() else 'cpu'\n",
    "\n",
    "autoencoder_path = '/home/john/PhD/BISCUIT/pretrained_models/AE_40l_64hid_3c1b3l.ckpt'\n",
    "model_path = '/home/john/PhD/BISCUIT/pretrained_models/epoch=39-step=19760.ckpt'\n",
    "model = BISCUITNF.load_from_checkpoint(model_path, autoencoder_path=autoencoder_path)\n",
    "model.to(device)\n",
    "model.freeze()\n",
    "_ = model.eval()\n",
    "\n",
    "def revert_to_image(latents, model):\n",
    "    latents = latents.to(model.device)\n",
    "    latents = model.flow.reverse(latents)\n",
    "    new_image = model.autoencoder.decoder(latents)[0]\n",
    "    new_image = (new_image + 1.0) / 2.0\n",
    "    return new_image\n",
    "\n",
    "def tensor_to_base64_image(tensor: torch.Tensor) -> str:\n",
    "    # Convert the tensor to a NumPy array and transpose it to (H, W, 3)\n",
    "    array = tensor.mul(255).byte().cpu().numpy().transpose(1, 2, 0)\n",
    "    # Create a PIL Image from the NumPy array\n",
    "    image = Image.fromarray(array)\n",
    "    # Save the image to a bytes buffer\n",
    "    buffer = io.BytesIO()\n",
    "    image.save(buffer, format=\"PNG\")\n",
    "    buffer.seek(0)\n",
    "    # Encode the image to a base64 string\n",
    "    img_str = base64.b64encode(buffer.read()).decode(\"utf-8\")\n",
    "    return f\"data:image/png;base64,{img_str}\"\n",
    "\n",
    "def blocksworld_node_data_factory(n: MCTSNode) -> NodeData:\n",
    "    if n.state:\n",
    "        if hasattr(n.state, 'image') and n.state.image is not None:\n",
    "            image_tensor = n.state.image\n",
    "        else:\n",
    "            image_tensor = revert_to_image(n.state.latents, model)\n",
    "        # image_str = tensor_to_base64_image(image_tensor)\n",
    "        image_str = n.state.description\n",
    "    else:\n",
    "        image_str = \"Not expanded\"\n",
    "\n",
    "    return NodeData({\n",
    "        \"block state\": image_str,\n",
    "        \"# goals satisfied\": n.reward_details[\"goal_reached\"][1] if hasattr(n, \"reward_details\") else \"N/A\",\n",
    "        \"# visited\": len(n.cum_rewards)\n",
    "    })\n",
    "\n",
    "def blocksworld_edge_data_factory(n: MCTSNode) -> EdgeData:\n",
    "    return EdgeData({\n",
    "        \"Q\": n.Q,\n",
    "        \"intuition\": n.fast_reward_details[\"intuition\"],\n",
    "        \"self_eval\": n.fast_reward_details[\"self_eval\"],\n",
    "        \"action\": n.action\n",
    "    })\n",
    "\n",
    "visualize(result_rap,\n",
    "          node_data_factory=blocksworld_node_data_factory,\n",
    "          edge_data_factory=blocksworld_edge_data_factory)\n"
   ]
  },
  {
   "cell_type": "code",
   "execution_count": null,
   "id": "ab27669adac79b8d",
   "metadata": {
    "collapsed": false
   },
   "outputs": [],
   "source": [
    "with open('prompts/pool_prompt_v1.json') as f:\n",
    "    prompt = json.load(f)\n",
    "evaluator = BWEvaluator(config_file='examples/blocksworld/data/bw_config.yaml',\n",
    "                        domain_file='examples/blocksworld/data/generated_domain.pddl',\n",
    "                        data_path='examples/blocksworld/data/split_v1/split_v1_step_4_data.json',\n",
    "                        init_prompt=prompt)\n",
    "evaluator.evaluate(reasoner_tot, shuffle_prompt=True, num_shot=4, resume=0, log_dir='log/')"
   ]
  },
  {
   "cell_type": "code",
   "execution_count": 6,
   "id": "3036a78e95ef7ce8",
   "metadata": {
    "collapsed": false
   },
   "outputs": [
    {
     "name": "stdout",
     "output_type": "stream",
     "text": [
      "Simulated path for w_exp=100.0: [0, 3]\n"
     ]
    },
    {
     "data": {
      "application/vnd.plotly.v1+json": {
       "config": {
        "plotlyServerURL": "https://plot.ly"
       },
       "data": [
        {
         "hoverinfo": "none",
         "line": {
          "color": "black",
          "width": 2
         },
         "mode": "lines",
         "type": "scatter",
         "x": [
          -0.8695652173913043,
          -0.536231884057971,
          null,
          -0.8695652173913043,
          -0.536231884057971,
          null,
          -0.8695652173913043,
          -0.536231884057971,
          null,
          -0.8695652173913043,
          -0.536231884057971,
          null,
          -0.536231884057971,
          -0.2028985507246377,
          null,
          -0.536231884057971,
          -0.2028985507246377,
          null,
          -0.536231884057971,
          -0.2028985507246377,
          null,
          -0.536231884057971,
          -0.2028985507246377,
          null,
          -0.536231884057971,
          -0.2028985507246377,
          null,
          -0.2028985507246377,
          0.13043478260869562,
          null,
          -0.2028985507246377,
          0.13043478260869562,
          null,
          -0.2028985507246377,
          0.13043478260869562,
          null,
          -0.2028985507246377,
          0.13043478260869562,
          null,
          -0.2028985507246377,
          0.13043478260869562,
          null,
          -0.2028985507246377,
          0.13043478260869562,
          null,
          0.13043478260869562,
          0.46376811594202894,
          null,
          0.13043478260869562,
          0.46376811594202894,
          null,
          0.13043478260869562,
          0.46376811594202894,
          null,
          0.13043478260869562,
          0.46376811594202894,
          null,
          0.13043478260869562,
          0.46376811594202894,
          null,
          0.13043478260869562,
          0.46376811594202894,
          null,
          0.13043478260869562,
          0.46376811594202894,
          null
         ],
         "y": [
          0,
          -0.5,
          null,
          0,
          -0.16666666666666666,
          null,
          0,
          0.16666666666666666,
          null,
          0,
          0.5,
          null,
          0.5,
          -0.6666666666666666,
          null,
          0.5,
          -0.3333333333333333,
          null,
          0.5,
          0,
          null,
          0.5,
          0.3333333333333333,
          null,
          0.5,
          0.6666666666666666,
          null,
          -0.6666666666666666,
          -0.8333333333333333,
          null,
          -0.6666666666666666,
          -0.5,
          null,
          -0.6666666666666666,
          -0.16666666666666666,
          null,
          -0.6666666666666666,
          0.16666666666666666,
          null,
          -0.6666666666666666,
          0.5,
          null,
          -0.6666666666666666,
          0.8333333333333333,
          null,
          -0.16666666666666666,
          -1,
          null,
          -0.16666666666666666,
          -0.6666666666666666,
          null,
          -0.16666666666666666,
          -0.3333333333333333,
          null,
          -0.16666666666666666,
          0,
          null,
          -0.16666666666666666,
          0.3333333333333333,
          null,
          -0.16666666666666666,
          0.6666666666666666,
          null,
          -0.16666666666666666,
          1,
          null
         ]
        },
        {
         "hoverinfo": "text",
         "marker": {
          "color": "skyblue",
          "line": {
           "width": 2
          },
          "showscale": false,
          "size": 50
         },
         "mode": "markers+text",
         "text": [
          "Node 0<br>Goals satisfied: N/A<br>Visited: 10<br>UCT: 0.00",
          "Node 4<br>Goals satisfied: 83.33333333333334<br>Visited: 10<br>UCT: 78.08",
          "Node 9<br>Goals satisfied: N/A<br>Visited: 0<br>UCT: 139.19",
          "Node 8<br>Goals satisfied: N/A<br>Visited: 0<br>UCT: 141.97",
          "Node 7<br>Goals satisfied: N/A<br>Visited: 0<br>UCT: 141.14",
          "Node 6<br>Goals satisfied: N/A<br>Visited: 0<br>UCT: 141.37",
          "Node 5<br>Goals satisfied: 83.33333333333334<br>Visited: 10<br>UCT: 77.47",
          "Node 15<br>Goals satisfied: N/A<br>Visited: 0<br>UCT: 139.06",
          "Node 14<br>Goals satisfied: N/A<br>Visited: 0<br>UCT: 142.00",
          "Node 13<br>Goals satisfied: N/A<br>Visited: 0<br>UCT: 141.12",
          "Node 12<br>Goals satisfied: 66.66666666666666<br>Visited: 10<br>UCT: 76.26",
          "Node 22<br>Goals satisfied: N/A<br>Visited: 0<br>UCT: 138.96",
          "Node 21<br>Goals satisfied: N/A<br>Visited: 0<br>UCT: 142.39",
          "Node 20<br>Goals satisfied: N/A<br>Visited: 0<br>UCT: 140.90",
          "Node 19<br>Goals satisfied: N/A<br>Visited: 0<br>UCT: 141.63",
          "Node 18<br>Goals satisfied: N/A<br>Visited: 0<br>UCT: 141.76",
          "Node 17<br>Goals satisfied: N/A<br>Visited: 0<br>UCT: 140.66",
          "Node 16<br>Goals satisfied: 83.33333333333334<br>Visited: 10<br>UCT: 80.51",
          "Node 11<br>Goals satisfied: N/A<br>Visited: 0<br>UCT: 140.89",
          "Node 10<br>Goals satisfied: N/A<br>Visited: 0<br>UCT: 142.01",
          "Node 3<br>Goals satisfied: N/A<br>Visited: 0<br>UCT: 141.27",
          "Node 2<br>Goals satisfied: N/A<br>Visited: 0<br>UCT: 140.84",
          "Node 1<br>Goals satisfied: N/A<br>Visited: 0<br>UCT: 139.08"
         ],
         "textposition": "top center",
         "type": "scatter",
         "x": [
          -0.8695652173913043,
          -0.536231884057971,
          -0.2028985507246377,
          -0.2028985507246377,
          -0.2028985507246377,
          -0.2028985507246377,
          -0.2028985507246377,
          0.13043478260869562,
          0.13043478260869562,
          0.13043478260869562,
          0.13043478260869562,
          0.46376811594202894,
          0.46376811594202894,
          0.46376811594202894,
          0.46376811594202894,
          0.46376811594202894,
          0.46376811594202894,
          0.46376811594202894,
          0.13043478260869562,
          0.13043478260869562,
          -0.536231884057971,
          -0.536231884057971,
          -0.536231884057971
         ],
         "y": [
          0,
          0.5,
          0.6666666666666666,
          0.3333333333333333,
          0,
          -0.3333333333333333,
          -0.6666666666666666,
          0.8333333333333333,
          0.5,
          0.16666666666666666,
          -0.16666666666666666,
          1,
          0.6666666666666666,
          0.3333333333333333,
          0,
          -0.3333333333333333,
          -0.6666666666666666,
          -1,
          -0.5,
          -0.8333333333333333,
          0.16666666666666666,
          -0.16666666666666666,
          -0.5
         ]
        },
        {
         "hoverinfo": "none",
         "line": {
          "color": "red",
          "width": 4
         },
         "mode": "lines",
         "type": "scatter",
         "x": [
          -0.8695652173913043,
          null,
          -0.536231884057971,
          null
         ],
         "y": [
          0,
          null,
          0.16666666666666666,
          null
         ]
        }
       ],
       "layout": {
        "annotations": [
         {
          "align": "center",
          "font": {
           "size": 10
          },
          "showarrow": false,
          "text": "A: You performed no action.<br>Q: -12.66<br>Intuition: -22.74<br>Self-Eval: -2.59<br>UCT: 139.08",
          "x": -0.7028985507246377,
          "y": -0.25
         },
         {
          "align": "center",
          "font": {
           "size": 10
          },
          "showarrow": false,
          "text": "A: You changed the state of the silver trafficlight<br>Q: -10.90<br>Intuition: -20.81<br>Self-Eval: -1.00<br>UCT: 140.84",
          "x": -0.7028985507246377,
          "y": -0.08333333333333333
         },
         {
          "align": "center",
          "font": {
           "size": 10
          },
          "showarrow": false,
          "text": "A: You changed the state of the olive trafficlight<br>Q: -10.47<br>Intuition: -20.04<br>Self-Eval: -0.91<br>UCT: 141.27",
          "x": -0.7028985507246377,
          "y": 0.08333333333333333
         },
         {
          "align": "center",
          "font": {
           "size": 10
          },
          "showarrow": false,
          "text": "A: You changed the state of the cyan trafficlight<br>Q: 30.09<br>Intuition: -18.87<br>Self-Eval: -0.60<br>UCT: 78.08",
          "x": -0.7028985507246377,
          "y": 0.25
         },
         {
          "align": "center",
          "font": {
           "size": 10
          },
          "showarrow": false,
          "text": "A: You changed the state of the olive trafficlight<br>Q: 29.48<br>Intuition: -18.58<br>Self-Eval: -0.95<br>UCT: 77.47",
          "x": -0.3695652173913043,
          "y": -0.08333333333333331
         },
         {
          "align": "center",
          "font": {
           "size": 10
          },
          "showarrow": false,
          "text": "A: You changed the state of the silver trafficlight<br>Q: -10.38<br>Intuition: -19.92<br>Self-Eval: -0.83<br>UCT: 141.37",
          "x": -0.3695652173913043,
          "y": 0.08333333333333334
         },
         {
          "align": "center",
          "font": {
           "size": 10
          },
          "showarrow": false,
          "text": "A: You moved the red vehicle.<br>Q: -10.60<br>Intuition: -20.23<br>Self-Eval: -0.97<br>UCT: 141.14",
          "x": -0.3695652173913043,
          "y": 0.25
         },
         {
          "align": "center",
          "font": {
           "size": 10
          },
          "showarrow": false,
          "text": "A: You changed the state of the cyan trafficlight<br>Q: -9.77<br>Intuition: -18.54<br>Self-Eval: -1.01<br>UCT: 141.97",
          "x": -0.3695652173913043,
          "y": 0.41666666666666663
         },
         {
          "align": "center",
          "font": {
           "size": 10
          },
          "showarrow": false,
          "text": "A: You performed no action.<br>Q: -12.56<br>Intuition: -22.45<br>Self-Eval: -2.66<br>UCT: 139.19",
          "x": -0.3695652173913043,
          "y": 0.5833333333333333
         },
         {
          "align": "center",
          "font": {
           "size": 10
          },
          "showarrow": false,
          "text": "A: You changed the state of the olive trafficlight<br>Q: -9.73<br>Intuition: -18.73<br>Self-Eval: -0.73<br>UCT: 142.01",
          "x": -0.03623188405797104,
          "y": -0.75
         },
         {
          "align": "center",
          "font": {
           "size": 10
          },
          "showarrow": false,
          "text": "A: You moved the silver vehicle.<br>Q: -10.86<br>Intuition: -20.95<br>Self-Eval: -0.77<br>UCT: 140.89",
          "x": -0.03623188405797104,
          "y": -0.5833333333333333
         },
         {
          "align": "center",
          "font": {
           "size": 10
          },
          "showarrow": false,
          "text": "A: You changed the state of the silver trafficlight<br>Q: 28.27<br>Intuition: -17.73<br>Self-Eval: -0.91<br>UCT: 76.26",
          "x": -0.03623188405797104,
          "y": -0.41666666666666663
         },
         {
          "align": "center",
          "font": {
           "size": 10
          },
          "showarrow": false,
          "text": "A: You moved the red vehicle.<br>Q: -10.63<br>Intuition: -20.07<br>Self-Eval: -1.18<br>UCT: 141.12",
          "x": -0.03623188405797104,
          "y": -0.25
         },
         {
          "align": "center",
          "font": {
           "size": 10
          },
          "showarrow": false,
          "text": "A: You changed the state of the cyan trafficlight<br>Q: -9.74<br>Intuition: -18.35<br>Self-Eval: -1.13<br>UCT: 142.00",
          "x": -0.03623188405797104,
          "y": -0.08333333333333331
         },
         {
          "align": "center",
          "font": {
           "size": 10
          },
          "showarrow": false,
          "text": "A: You performed no action.<br>Q: -12.68<br>Intuition: -22.44<br>Self-Eval: -2.92<br>UCT: 139.06",
          "x": -0.03623188405797104,
          "y": 0.08333333333333331
         },
         {
          "align": "center",
          "font": {
           "size": 10
          },
          "showarrow": false,
          "text": "A: You changed the state of the olive trafficlight<br>Q: 32.53<br>Intuition: -17.72<br>Self-Eval: -0.56<br>UCT: 80.51",
          "x": 0.2971014492753623,
          "y": -0.5833333333333334
         },
         {
          "align": "center",
          "font": {
           "size": 10
          },
          "showarrow": false,
          "text": "A: You moved the silver vehicle.<br>Q: -11.09<br>Intuition: -21.32<br>Self-Eval: -0.86<br>UCT: 140.66",
          "x": 0.2971014492753623,
          "y": -0.41666666666666663
         },
         {
          "align": "center",
          "font": {
           "size": 10
          },
          "showarrow": false,
          "text": "A: You changed the state of the silver trafficlight<br>Q: -9.98<br>Intuition: -19.04<br>Self-Eval: -0.93<br>UCT: 141.76",
          "x": 0.2971014492753623,
          "y": -0.25
         },
         {
          "align": "center",
          "font": {
           "size": 10
          },
          "showarrow": false,
          "text": "A: You moved the blue vehicle.<br>Q: -10.11<br>Intuition: -19.12<br>Self-Eval: -1.10<br>UCT: 141.63",
          "x": 0.2971014492753623,
          "y": -0.08333333333333333
         },
         {
          "align": "center",
          "font": {
           "size": 10
          },
          "showarrow": false,
          "text": "A: You moved the red vehicle.<br>Q: -10.85<br>Intuition: -20.46<br>Self-Eval: -1.24<br>UCT: 140.90",
          "x": 0.2971014492753623,
          "y": 0.08333333333333333
         },
         {
          "align": "center",
          "font": {
           "size": 10
          },
          "showarrow": false,
          "text": "A: You changed the state of the cyan trafficlight<br>Q: -9.36<br>Intuition: -17.62<br>Self-Eval: -1.09<br>UCT: 142.39",
          "x": 0.2971014492753623,
          "y": 0.25
         },
         {
          "align": "center",
          "font": {
           "size": 10
          },
          "showarrow": false,
          "text": "A: You performed no action.<br>Q: -12.79<br>Intuition: -22.79<br>Self-Eval: -2.78<br>UCT: 138.96",
          "x": 0.2971014492753623,
          "y": 0.4166666666666667
         }
        ],
        "hovermode": "closest",
        "images": [
         {
          "sizex": 0.15,
          "sizey": 0.15,
          "source": "data:image/png;base64,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",
          "x": -0.8695652173913043,
          "xanchor": "center",
          "xref": "x",
          "y": 0,
          "yanchor": "middle",
          "yref": "y"
         },
         {
          "sizex": 0.15,
          "sizey": 0.15,
          "source": "data:image/png;base64,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",
          "x": -0.536231884057971,
          "xanchor": "center",
          "xref": "x",
          "y": 0.5,
          "yanchor": "middle",
          "yref": "y"
         },
         {
          "sizex": 0.15,
          "sizey": 0.15,
          "source": "data:image/png;base64,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",
          "x": -0.2028985507246377,
          "xanchor": "center",
          "xref": "x",
          "y": -0.6666666666666666,
          "yanchor": "middle",
          "yref": "y"
         },
         {
          "sizex": 0.15,
          "sizey": 0.15,
          "source": "data:image/png;base64,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",
          "x": 0.13043478260869562,
          "xanchor": "center",
          "xref": "x",
          "y": -0.16666666666666666,
          "yanchor": "middle",
          "yref": "y"
         },
         {
          "sizex": 0.15,
          "sizey": 0.15,
          "source": "data:image/png;base64,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",
          "x": 0.46376811594202894,
          "xanchor": "center",
          "xref": "x",
          "y": -1,
          "yanchor": "middle",
          "yref": "y"
         }
        ],
        "margin": {
         "b": 20,
         "l": 5,
         "r": 5,
         "t": 40
        },
        "showlegend": false,
        "template": {
         "data": {
          "bar": [
           {
            "error_x": {
             "color": "#2a3f5f"
            },
            "error_y": {
             "color": "#2a3f5f"
            },
            "marker": {
             "line": {
              "color": "#E5ECF6",
              "width": 0.5
             },
             "pattern": {
              "fillmode": "overlay",
              "size": 10,
              "solidity": 0.2
             }
            },
            "type": "bar"
           }
          ],
          "barpolar": [
           {
            "marker": {
             "line": {
              "color": "#E5ECF6",
              "width": 0.5
             },
             "pattern": {
              "fillmode": "overlay",
              "size": 10,
              "solidity": 0.2
             }
            },
            "type": "barpolar"
           }
          ],
          "carpet": [
           {
            "aaxis": {
             "endlinecolor": "#2a3f5f",
             "gridcolor": "white",
             "linecolor": "white",
             "minorgridcolor": "white",
             "startlinecolor": "#2a3f5f"
            },
            "baxis": {
             "endlinecolor": "#2a3f5f",
             "gridcolor": "white",
             "linecolor": "white",
             "minorgridcolor": "white",
             "startlinecolor": "#2a3f5f"
            },
            "type": "carpet"
           }
          ],
          "choropleth": [
           {
            "colorbar": {
             "outlinewidth": 0,
             "ticks": ""
            },
            "type": "choropleth"
           }
          ],
          "contour": [
           {
            "colorbar": {
             "outlinewidth": 0,
             "ticks": ""
            },
            "colorscale": [
             [
              0,
              "#0d0887"
             ],
             [
              0.1111111111111111,
              "#46039f"
             ],
             [
              0.2222222222222222,
              "#7201a8"
             ],
             [
              0.3333333333333333,
              "#9c179e"
             ],
             [
              0.4444444444444444,
              "#bd3786"
             ],
             [
              0.5555555555555556,
              "#d8576b"
             ],
             [
              0.6666666666666666,
              "#ed7953"
             ],
             [
              0.7777777777777778,
              "#fb9f3a"
             ],
             [
              0.8888888888888888,
              "#fdca26"
             ],
             [
              1,
              "#f0f921"
             ]
            ],
            "type": "contour"
           }
          ],
          "contourcarpet": [
           {
            "colorbar": {
             "outlinewidth": 0,
             "ticks": ""
            },
            "type": "contourcarpet"
           }
          ],
          "heatmap": [
           {
            "colorbar": {
             "outlinewidth": 0,
             "ticks": ""
            },
            "colorscale": [
             [
              0,
              "#0d0887"
             ],
             [
              0.1111111111111111,
              "#46039f"
             ],
             [
              0.2222222222222222,
              "#7201a8"
             ],
             [
              0.3333333333333333,
              "#9c179e"
             ],
             [
              0.4444444444444444,
              "#bd3786"
             ],
             [
              0.5555555555555556,
              "#d8576b"
             ],
             [
              0.6666666666666666,
              "#ed7953"
             ],
             [
              0.7777777777777778,
              "#fb9f3a"
             ],
             [
              0.8888888888888888,
              "#fdca26"
             ],
             [
              1,
              "#f0f921"
             ]
            ],
            "type": "heatmap"
           }
          ],
          "heatmapgl": [
           {
            "colorbar": {
             "outlinewidth": 0,
             "ticks": ""
            },
            "colorscale": [
             [
              0,
              "#0d0887"
             ],
             [
              0.1111111111111111,
              "#46039f"
             ],
             [
              0.2222222222222222,
              "#7201a8"
             ],
             [
              0.3333333333333333,
              "#9c179e"
             ],
             [
              0.4444444444444444,
              "#bd3786"
             ],
             [
              0.5555555555555556,
              "#d8576b"
             ],
             [
              0.6666666666666666,
              "#ed7953"
             ],
             [
              0.7777777777777778,
              "#fb9f3a"
             ],
             [
              0.8888888888888888,
              "#fdca26"
             ],
             [
              1,
              "#f0f921"
             ]
            ],
            "type": "heatmapgl"
           }
          ],
          "histogram": [
           {
            "marker": {
             "pattern": {
              "fillmode": "overlay",
              "size": 10,
              "solidity": 0.2
             }
            },
            "type": "histogram"
           }
          ],
          "histogram2d": [
           {
            "colorbar": {
             "outlinewidth": 0,
             "ticks": ""
            },
            "colorscale": [
             [
              0,
              "#0d0887"
             ],
             [
              0.1111111111111111,
              "#46039f"
             ],
             [
              0.2222222222222222,
              "#7201a8"
             ],
             [
              0.3333333333333333,
              "#9c179e"
             ],
             [
              0.4444444444444444,
              "#bd3786"
             ],
             [
              0.5555555555555556,
              "#d8576b"
             ],
             [
              0.6666666666666666,
              "#ed7953"
             ],
             [
              0.7777777777777778,
              "#fb9f3a"
             ],
             [
              0.8888888888888888,
              "#fdca26"
             ],
             [
              1,
              "#f0f921"
             ]
            ],
            "type": "histogram2d"
           }
          ],
          "histogram2dcontour": [
           {
            "colorbar": {
             "outlinewidth": 0,
             "ticks": ""
            },
            "colorscale": [
             [
              0,
              "#0d0887"
             ],
             [
              0.1111111111111111,
              "#46039f"
             ],
             [
              0.2222222222222222,
              "#7201a8"
             ],
             [
              0.3333333333333333,
              "#9c179e"
             ],
             [
              0.4444444444444444,
              "#bd3786"
             ],
             [
              0.5555555555555556,
              "#d8576b"
             ],
             [
              0.6666666666666666,
              "#ed7953"
             ],
             [
              0.7777777777777778,
              "#fb9f3a"
             ],
             [
              0.8888888888888888,
              "#fdca26"
             ],
             [
              1,
              "#f0f921"
             ]
            ],
            "type": "histogram2dcontour"
           }
          ],
          "mesh3d": [
           {
            "colorbar": {
             "outlinewidth": 0,
             "ticks": ""
            },
            "type": "mesh3d"
           }
          ],
          "parcoords": [
           {
            "line": {
             "colorbar": {
              "outlinewidth": 0,
              "ticks": ""
             }
            },
            "type": "parcoords"
           }
          ],
          "pie": [
           {
            "automargin": true,
            "type": "pie"
           }
          ],
          "scatter": [
           {
            "fillpattern": {
             "fillmode": "overlay",
             "size": 10,
             "solidity": 0.2
            },
            "type": "scatter"
           }
          ],
          "scatter3d": [
           {
            "line": {
             "colorbar": {
              "outlinewidth": 0,
              "ticks": ""
             }
            },
            "marker": {
             "colorbar": {
              "outlinewidth": 0,
              "ticks": ""
             }
            },
            "type": "scatter3d"
           }
          ],
          "scattercarpet": [
           {
            "marker": {
             "colorbar": {
              "outlinewidth": 0,
              "ticks": ""
             }
            },
            "type": "scattercarpet"
           }
          ],
          "scattergeo": [
           {
            "marker": {
             "colorbar": {
              "outlinewidth": 0,
              "ticks": ""
             }
            },
            "type": "scattergeo"
           }
          ],
          "scattergl": [
           {
            "marker": {
             "colorbar": {
              "outlinewidth": 0,
              "ticks": ""
             }
            },
            "type": "scattergl"
           }
          ],
          "scattermapbox": [
           {
            "marker": {
             "colorbar": {
              "outlinewidth": 0,
              "ticks": ""
             }
            },
            "type": "scattermapbox"
           }
          ],
          "scatterpolar": [
           {
            "marker": {
             "colorbar": {
              "outlinewidth": 0,
              "ticks": ""
             }
            },
            "type": "scatterpolar"
           }
          ],
          "scatterpolargl": [
           {
            "marker": {
             "colorbar": {
              "outlinewidth": 0,
              "ticks": ""
             }
            },
            "type": "scatterpolargl"
           }
          ],
          "scatterternary": [
           {
            "marker": {
             "colorbar": {
              "outlinewidth": 0,
              "ticks": ""
             }
            },
            "type": "scatterternary"
           }
          ],
          "surface": [
           {
            "colorbar": {
             "outlinewidth": 0,
             "ticks": ""
            },
            "colorscale": [
             [
              0,
              "#0d0887"
             ],
             [
              0.1111111111111111,
              "#46039f"
             ],
             [
              0.2222222222222222,
              "#7201a8"
             ],
             [
              0.3333333333333333,
              "#9c179e"
             ],
             [
              0.4444444444444444,
              "#bd3786"
             ],
             [
              0.5555555555555556,
              "#d8576b"
             ],
             [
              0.6666666666666666,
              "#ed7953"
             ],
             [
              0.7777777777777778,
              "#fb9f3a"
             ],
             [
              0.8888888888888888,
              "#fdca26"
             ],
             [
              1,
              "#f0f921"
             ]
            ],
            "type": "surface"
           }
          ],
          "table": [
           {
            "cells": {
             "fill": {
              "color": "#EBF0F8"
             },
             "line": {
              "color": "white"
             }
            },
            "header": {
             "fill": {
              "color": "#C8D4E3"
             },
             "line": {
              "color": "white"
             }
            },
            "type": "table"
           }
          ]
         },
         "layout": {
          "annotationdefaults": {
           "arrowcolor": "#2a3f5f",
           "arrowhead": 0,
           "arrowwidth": 1
          },
          "autotypenumbers": "strict",
          "coloraxis": {
           "colorbar": {
            "outlinewidth": 0,
            "ticks": ""
           }
          },
          "colorscale": {
           "diverging": [
            [
             0,
             "#8e0152"
            ],
            [
             0.1,
             "#c51b7d"
            ],
            [
             0.2,
             "#de77ae"
            ],
            [
             0.3,
             "#f1b6da"
            ],
            [
             0.4,
             "#fde0ef"
            ],
            [
             0.5,
             "#f7f7f7"
            ],
            [
             0.6,
             "#e6f5d0"
            ],
            [
             0.7,
             "#b8e186"
            ],
            [
             0.8,
             "#7fbc41"
            ],
            [
             0.9,
             "#4d9221"
            ],
            [
             1,
             "#276419"
            ]
           ],
           "sequential": [
            [
             0,
             "#0d0887"
            ],
            [
             0.1111111111111111,
             "#46039f"
            ],
            [
             0.2222222222222222,
             "#7201a8"
            ],
            [
             0.3333333333333333,
             "#9c179e"
            ],
            [
             0.4444444444444444,
             "#bd3786"
            ],
            [
             0.5555555555555556,
             "#d8576b"
            ],
            [
             0.6666666666666666,
             "#ed7953"
            ],
            [
             0.7777777777777778,
             "#fb9f3a"
            ],
            [
             0.8888888888888888,
             "#fdca26"
            ],
            [
             1,
             "#f0f921"
            ]
           ],
           "sequentialminus": [
            [
             0,
             "#0d0887"
            ],
            [
             0.1111111111111111,
             "#46039f"
            ],
            [
             0.2222222222222222,
             "#7201a8"
            ],
            [
             0.3333333333333333,
             "#9c179e"
            ],
            [
             0.4444444444444444,
             "#bd3786"
            ],
            [
             0.5555555555555556,
             "#d8576b"
            ],
            [
             0.6666666666666666,
             "#ed7953"
            ],
            [
             0.7777777777777778,
             "#fb9f3a"
            ],
            [
             0.8888888888888888,
             "#fdca26"
            ],
            [
             1,
             "#f0f921"
            ]
           ]
          },
          "colorway": [
           "#636efa",
           "#EF553B",
           "#00cc96",
           "#ab63fa",
           "#FFA15A",
           "#19d3f3",
           "#FF6692",
           "#B6E880",
           "#FF97FF",
           "#FECB52"
          ],
          "font": {
           "color": "#2a3f5f"
          },
          "geo": {
           "bgcolor": "white",
           "lakecolor": "white",
           "landcolor": "#E5ECF6",
           "showlakes": true,
           "showland": true,
           "subunitcolor": "white"
          },
          "hoverlabel": {
           "align": "left"
          },
          "hovermode": "closest",
          "mapbox": {
           "style": "light"
          },
          "paper_bgcolor": "white",
          "plot_bgcolor": "#E5ECF6",
          "polar": {
           "angularaxis": {
            "gridcolor": "white",
            "linecolor": "white",
            "ticks": ""
           },
           "bgcolor": "#E5ECF6",
           "radialaxis": {
            "gridcolor": "white",
            "linecolor": "white",
            "ticks": ""
           }
          },
          "scene": {
           "xaxis": {
            "backgroundcolor": "#E5ECF6",
            "gridcolor": "white",
            "gridwidth": 2,
            "linecolor": "white",
            "showbackground": true,
            "ticks": "",
            "zerolinecolor": "white"
           },
           "yaxis": {
            "backgroundcolor": "#E5ECF6",
            "gridcolor": "white",
            "gridwidth": 2,
            "linecolor": "white",
            "showbackground": true,
            "ticks": "",
            "zerolinecolor": "white"
           },
           "zaxis": {
            "backgroundcolor": "#E5ECF6",
            "gridcolor": "white",
            "gridwidth": 2,
            "linecolor": "white",
            "showbackground": true,
            "ticks": "",
            "zerolinecolor": "white"
           }
          },
          "shapedefaults": {
           "line": {
            "color": "#2a3f5f"
           }
          },
          "ternary": {
           "aaxis": {
            "gridcolor": "white",
            "linecolor": "white",
            "ticks": ""
           },
           "baxis": {
            "gridcolor": "white",
            "linecolor": "white",
            "ticks": ""
           },
           "bgcolor": "#E5ECF6",
           "caxis": {
            "gridcolor": "white",
            "linecolor": "white",
            "ticks": ""
           }
          },
          "title": {
           "x": 0.05
          },
          "xaxis": {
           "automargin": true,
           "gridcolor": "white",
           "linecolor": "white",
           "ticks": "",
           "title": {
            "standoff": 15
           },
           "zerolinecolor": "white",
           "zerolinewidth": 2
          },
          "yaxis": {
           "automargin": true,
           "gridcolor": "white",
           "linecolor": "white",
           "ticks": "",
           "title": {
            "standoff": 15
           },
           "zerolinecolor": "white",
           "zerolinewidth": 2
          }
         }
        },
        "title": {
         "font": {
          "size": 16
         },
         "text": "MCTS Visualization with w_exp=100.0"
        },
        "xaxis": {
         "showgrid": false,
         "zeroline": false
        },
        "yaxis": {
         "showgrid": false,
         "zeroline": false
        }
       }
      }
     },
     "metadata": {},
     "output_type": "display_data"
    }
   ],
   "source": [
    "import base64\n",
    "import io\n",
    "import json\n",
    "import networkx as nx\n",
    "import plotly.graph_objects as go\n",
    "from PIL import Image\n",
    "import torch\n",
    "import sys\n",
    "sys.path.append('../')\n",
    "from models.biscuit_nf import BISCUITNF\n",
    "from reasoners.algorithm.mcts import MCTSNode, MCTSResult\n",
    "from typing import List, Tuple, Dict, Any, Union, Optional\n",
    "\n",
    "# Set device\n",
    "device = 'cuda' if torch.cuda.is_available() else 'cpu'\n",
    "\n",
    "# Load models\n",
    "autoencoder_path = '/home/john/PhD/BISCUIT/pretrained_models/AE_40l_64hid_3c1b3l.ckpt'\n",
    "model_path = '/home/john/PhD/BISCUIT/pretrained_models/epoch=39-step=19760.ckpt'\n",
    "model = BISCUITNF.load_from_checkpoint(model_path, autoencoder_path=autoencoder_path)\n",
    "model.to(device)\n",
    "model.freeze()\n",
    "_ = model.eval()\n",
    "\n",
    "def revert_to_image(latents, model):\n",
    "    latents = latents.to(model.device)\n",
    "    latents = model.flow.reverse(latents)\n",
    "    new_image = model.autoencoder.decoder(latents)[0]\n",
    "    new_image = (new_image + 1.0) / 2.0\n",
    "    return new_image\n",
    "\n",
    "def tensor_to_base64_image(tensor: torch.Tensor) -> str:\n",
    "    # Convert the tensor to a NumPy array and transpose it to (H, W, 3)\n",
    "    array = tensor.mul(255).byte().cpu().numpy().transpose(1, 2, 0)\n",
    "    # Create a PIL Image from the NumPy array\n",
    "    image = Image.fromarray(array)\n",
    "    # Save the image to a bytes buffer\n",
    "    buffer = io.BytesIO()\n",
    "    image.save(buffer, format=\"PNG\")\n",
    "    buffer.seek(0)\n",
    "    # Encode the image to a base64 string\n",
    "    img_str = base64.b64encode(buffer.read()).decode(\"utf-8\")\n",
    "    return f\"data:image/png;base64,{img_str}\"\n",
    "\n",
    "import math\n",
    "\n",
    "def recalculate_uct(node: MCTSNode, w_exp: float) -> float:\n",
    "    if node.parent is None:\n",
    "        return 0  # Root node has no UCT value\n",
    "    # print(len(node.cum_rewards))\n",
    "    # print(len(node.parent.cum_rewards))\n",
    "    # N = node.parent.cum_rewards\n",
    "    M = len(node.parent.cum_rewards)\n",
    "    N = len(node.cum_rewards)\n",
    "    return node.Q + w_exp * math.sqrt(math.log(M) / max(1, N))\n",
    "\n",
    "def extract_nodes_edges(root: MCTSNode, w_exp: float):\n",
    "    nodes = []\n",
    "    edges = []\n",
    "    stack = [(root, 0)]\n",
    "    \n",
    "    while stack:\n",
    "        node, depth = stack.pop()\n",
    "        nodes.append((node, depth))\n",
    "        if node.children:\n",
    "            for child in node.children:\n",
    "                uct_value = recalculate_uct(child, w_exp)\n",
    "                edges.append((node.id, child.id, child, uct_value))\n",
    "                stack.append((child, depth + 1))\n",
    "    \n",
    "    return nodes, edges\n",
    "\n",
    "def generate_tree_layout(nodes: List[Tuple[MCTSNode, int]], edges: List[Tuple[int, int, Any, float]]) -> Dict[int, Tuple[float, float]]:\n",
    "    G = nx.DiGraph()\n",
    "    for node, depth in nodes:\n",
    "        G.add_node(node.id, subset=depth)\n",
    "    G.add_edges_from((u, v) for u, v, _, _ in edges)  # Adjust unpacking to ignore the extra elements\n",
    "\n",
    "    pos = nx.multipartite_layout(G, subset_key=\"subset\")\n",
    "    pos = nx.spring_layout(G, pos=pos, fixed=pos.keys())  # refine positions\n",
    "    return pos\n",
    "\n",
    "def simulate_path_selection(root: MCTSNode, w_exp: float) -> List[MCTSNode]:\n",
    "    path = [root]\n",
    "    current_node = root\n",
    "    while current_node.children:\n",
    "        uct_values = [recalculate_uct(child, w_exp) for child in current_node.children]\n",
    "        max_uct_index = uct_values.index(max(uct_values))\n",
    "        current_node = current_node.children[max_uct_index]\n",
    "        path.append(current_node)\n",
    "    return path\n",
    "\n",
    "def generate_visualizations(result: MCTSResult, w_exp_values: List[float]):\n",
    "    for w_exp in w_exp_values:\n",
    "        nodes, edges = extract_nodes_edges(result.tree_state, w_exp)\n",
    "        pos = generate_tree_layout(nodes, edges)\n",
    "\n",
    "        images = {}\n",
    "        for node, _ in nodes:\n",
    "            if node.state:\n",
    "                if hasattr(node.state, 'image') and node.state.image is not None:\n",
    "                    image_tensor = node.state.image\n",
    "                else:\n",
    "                    image_tensor = revert_to_image(node.state.latents, model)\n",
    "                images[node.id] = tensor_to_base64_image(image_tensor)\n",
    "\n",
    "        node_x = []\n",
    "        node_y = []\n",
    "        node_images = []\n",
    "        node_text = []\n",
    "        \n",
    "        for node_id, (x, y) in pos.items():\n",
    "            node_x.append(x)\n",
    "            node_y.append(y)\n",
    "            if node_id in images:\n",
    "                node_images.append(images[node_id])\n",
    "            else:\n",
    "                node_images.append(None)\n",
    "            node = next(n for n, _ in nodes if n.id == node_id)\n",
    "            uct_value = recalculate_uct(node, w_exp) if node.parent is not None else 0.0\n",
    "            node_text.append(f\"Node {node_id}<br>\"\n",
    "                            f\"Goals satisfied: {node.reward_details['goal_reached'][1] if hasattr(node, 'reward_details') else 'N/A'}<br>\"\n",
    "                            f\"Visited: {len(node.cum_rewards)}<br>\"\n",
    "                            f\"UCT: {uct_value:.2f}\")\n",
    "\n",
    "        edge_x = []\n",
    "        edge_y = []\n",
    "        edge_text = []\n",
    "        for u, v, child, uct_value in edges:\n",
    "            x0, y0 = pos[u]\n",
    "            x1, y1 = pos[v]\n",
    "            edge_x.append(x0)\n",
    "            edge_x.append(x1)\n",
    "            edge_x.append(None)\n",
    "            edge_y.append(y0)\n",
    "            edge_y.append(y1)\n",
    "            edge_y.append(None)\n",
    "            \n",
    "            action = child.action\n",
    "            Q = f\"{child.Q:.2f}\"\n",
    "            intuition = f\"{child.fast_reward_details['intuition']:.2f}\" if 'intuition' in child.fast_reward_details else 'N/A'\n",
    "            self_eval = f\"{child.fast_reward_details['self_eval']:.2f}\" if 'self_eval' in child.fast_reward_details else 'N/A'\n",
    "            \n",
    "            edge_label = (f\"A: {action}<br>\"\n",
    "                        f\"Q: {Q}<br>\"\n",
    "                        f\"Intuition: {intuition}<br>\"\n",
    "                        f\"Self-Eval: {self_eval}<br>\"\n",
    "                        f\"UCT: {uct_value:.2f}\")\n",
    "            edge_text.append((x0 + x1) / 2)\n",
    "            edge_text.append((y0 + y1) / 2)\n",
    "            edge_text.append(edge_label)\n",
    "\n",
    "        edge_trace = go.Scatter(\n",
    "            x=edge_x, y=edge_y,\n",
    "            line=dict(width=2, color='black'),\n",
    "            hoverinfo='none',\n",
    "            mode='lines')\n",
    "\n",
    "        edge_annotations = [\n",
    "            dict(\n",
    "                x=edge_text[i],\n",
    "                y=edge_text[i + 1],\n",
    "                text=edge_text[i + 2],\n",
    "                showarrow=False,\n",
    "                font=dict(size=10),\n",
    "                align='center',\n",
    "            ) for i in range(0, len(edge_text), 3)\n",
    "        ]\n",
    "\n",
    "        node_trace = go.Scatter(\n",
    "            x=node_x, y=node_y,\n",
    "            mode='markers+text',\n",
    "            hoverinfo='text',\n",
    "            text=node_text,\n",
    "            textposition=\"top center\",\n",
    "            marker=dict(\n",
    "                showscale=False,\n",
    "                color='skyblue',\n",
    "                size=50,\n",
    "                line_width=2))\n",
    "\n",
    "        fig = go.Figure(data=[edge_trace, node_trace],\n",
    "                        layout=go.Layout(\n",
    "                            title=f'MCTS Visualization with w_exp={w_exp}',\n",
    "                            titlefont_size=16,\n",
    "                            showlegend=False,\n",
    "                            hovermode='closest',\n",
    "                            margin=dict(b=20, l=5, r=5, t=40),\n",
    "                            annotations=edge_annotations,\n",
    "                            xaxis=dict(showgrid=False, zeroline=False),\n",
    "                            yaxis=dict(showgrid=False, zeroline=False))\n",
    "                        )\n",
    "\n",
    "        for i, (node_id, (x, y)) in enumerate(pos.items()):\n",
    "            if node_images[i]:\n",
    "                fig.add_layout_image(\n",
    "                    dict(\n",
    "                        source=node_images[i],\n",
    "                        xref=\"x\", yref=\"y\",\n",
    "                        x=x, y=y,\n",
    "                        sizex=0.15,\n",
    "                        sizey=0.15,\n",
    "                        xanchor=\"center\", yanchor=\"middle\"\n",
    "                    )\n",
    "                )\n",
    "\n",
    "        # Simulate and highlight the path selection\n",
    "        simulated_path = simulate_path_selection(result.tree_state, w_exp)\n",
    "        path_x = []\n",
    "        path_y = []\n",
    "        for node in simulated_path:\n",
    "            path_x.append(pos[node.id][0])\n",
    "            path_y.append(pos[node.id][1])\n",
    "            path_x.append(None)\n",
    "            path_y.append(None)\n",
    "        \n",
    "        # Debugging: Print simulated path node IDs\n",
    "        print(f\"Simulated path for w_exp={w_exp}: {[node.id for node in simulated_path]}\")\n",
    "\n",
    "        # Path trace for visualization\n",
    "        path_trace = go.Scatter(\n",
    "            x=path_x, y=path_y,\n",
    "            line=dict(width=4, color='red'),\n",
    "            hoverinfo='none',\n",
    "            mode='lines')\n",
    "\n",
    "        fig.add_trace(path_trace)\n",
    "        fig.show()\n",
    "\n",
    "# Example usage\n",
    "w_exp_values = [100.0]  # Example values to try\n",
    "result_rap = pickle.load(open('/home/john/PhD/BISCUIT/llm-reasoners/logs/gridworld_MCTS/05312024-152342/algo_output/21.pkl', 'rb'))\n",
    "generate_visualizations(result_rap, w_exp_values)"
   ]
  },
  {
   "cell_type": "code",
   "execution_count": 26,
   "id": "2020c052",
   "metadata": {},
   "outputs": [],
   "source": [
    "import base64\n",
    "import io\n",
    "import json\n",
    "import networkx as nx\n",
    "import graphviz\n",
    "from PIL import Image\n",
    "import torch\n",
    "import sys\n",
    "import os\n",
    "from typing import List, Tuple, Dict, Any, Union\n",
    "\n",
    "# Your previously imported custom modules and functions\n",
    "# from models.biscuit_nf import BISCUITNF\n",
    "# from reasoners.algorithm.mcts import MCTSNode, MCTSResult\n",
    "\n",
    "# Set device\n",
    "device = 'cuda' if torch.cuda.is_available() else 'cpu'\n",
    "\n",
    "# Load models\n",
    "# autoencoder_path = '/path/to/your/AE_40l_64hid_3c1b3l.ckpt'\n",
    "# model_path = '/path/to/your/epoch=39-step=19760.ckpt'\n",
    "# model = BISCUITNF.load_from_checkpoint(model_path, autoencoder_path=autoencoder_path)\n",
    "# model.to(device)\n",
    "# model.freeze()\n",
    "# _ = model.eval()\n",
    "\n",
    "def revert_to_image(latents, model):\n",
    "    latents = latents.to(model.device)\n",
    "    latents = model.flow.reverse(latents)\n",
    "    new_image = model.autoencoder.decoder(latents)[0]\n",
    "    new_image = (new_image + 1.0) / 2.0\n",
    "    return new_image\n",
    "\n",
    "def save_tensor_as_image(tensor: torch.Tensor, filepath: str) -> str:\n",
    "    array = tensor.mul(255).byte().cpu().numpy().transpose(1, 2, 0)\n",
    "    image = Image.fromarray(array)\n",
    "    image.save(filepath)\n",
    "    return filepath\n",
    "\n",
    "import math\n",
    "\n",
    "def recalculate_uct(node: MCTSNode, w_exp: float) -> float:\n",
    "    if node.parent is None:\n",
    "        return 0\n",
    "    M = len(node.parent.cum_rewards)\n",
    "    N = len(node.cum_rewards)\n",
    "    return node.Q + w_exp * math.sqrt(math.log(M) / max(1, N))\n",
    "\n",
    "def extract_nodes_edges(root: MCTSNode, w_exp: float):\n",
    "    nodes = []\n",
    "    edges = []\n",
    "    stack = [(root, 0)]\n",
    "    \n",
    "    while stack:\n",
    "        node, depth = stack.pop()\n",
    "        nodes.append((node, depth))\n",
    "        if node.children:\n",
    "            for child in node.children:\n",
    "                uct_value = recalculate_uct(child, w_exp)\n",
    "                edges.append((node.id, child.id, child, uct_value))\n",
    "                stack.append((child, depth + 1))\n",
    "    \n",
    "    return nodes, edges\n",
    "\n",
    "def generate_tree_layout(nodes: List[Tuple[MCTSNode, int]], edges: List[Tuple[int, int, Any, float]]) -> Dict[int, Tuple[float, float]]:\n",
    "    G = nx.DiGraph()\n",
    "    for node, depth in nodes:\n",
    "        G.add_node(node.id, subset=depth)\n",
    "    G.add_edges_from((u, v) for u, v, _, _ in edges)\n",
    "\n",
    "    pos = nx.multipartite_layout(G, subset_key=\"subset\")\n",
    "    pos = nx.spring_layout(G, pos=pos, fixed=pos.keys())\n",
    "    return pos\n",
    "\n",
    "def simulate_path_selection(root: MCTSNode, w_exp: float) -> List[MCTSNode]:\n",
    "    path = [root]\n",
    "    current_node = root\n",
    "    while current_node.children:\n",
    "        uct_values = [recalculate_uct(child, w_exp) for child in current_node.children]\n",
    "        max_uct_index = uct_values.index(max(uct_values))\n",
    "        current_node = current_node.children[max_uct_index]\n",
    "        path.append(current_node)\n",
    "    return path\n",
    "\n",
    "def generate_visualizations(result: MCTSResult, w_exp_values: List[float], temp_img_dir: str):\n",
    "    os.makedirs(temp_img_dir, exist_ok=True)\n",
    "    for w_exp in w_exp_values:\n",
    "        nodes, edges = extract_nodes_edges(result.tree_state, w_exp)\n",
    "\n",
    "        # Create a graphviz Digraph\n",
    "        dot = graphviz.Digraph(comment=f'MCTS Visualization with w_exp={w_exp}')\n",
    "        images = {}\n",
    "\n",
    "        for node, depth in nodes:\n",
    "            if node.state:\n",
    "                if hasattr(node.state, 'image') and node.state.image is not None:\n",
    "                    image_tensor = node.state.image\n",
    "                else:\n",
    "                    image_tensor = revert_to_image(node.state.latents, model)\n",
    "                image_path = os.path.join(temp_img_dir, f\"node_{node.id}.png\")\n",
    "                save_tensor_as_image(image_tensor, image_path)\n",
    "                images[node.id] = image_path\n",
    "            \n",
    "            uct_value = recalculate_uct(node, w_exp) if node.parent is not None else 0.0\n",
    "            if node.id in images:\n",
    "                node_label = (f\"<TABLE BORDER='0' CELLBORDER='1' CELLSPACING='0'>\"\n",
    "                              f\"<TR><TD><IMG SRC='{images[node.id]}'/></TD></TR>\"\n",
    "                              f\"<TR><TD>Node {node.id}<br/>\"\n",
    "                              f\"Goals satisfied: {node.reward_details['goal_reached'][1] if hasattr(node, 'reward_details') else 'N/A'}<br/>\"\n",
    "                              f\"Visited: {len(node.cum_rewards)}<br/>\"\n",
    "                              f\"UCT: {uct_value:.2f}</TD></TR></TABLE>\")\n",
    "            else:\n",
    "                node_label = (f\"<TABLE BORDER='0' CELLBORDER='1' CELLSPACING='0'>\"\n",
    "                              f\"<TR><TD>Node {node.id}<br/>\"\n",
    "                              f\"Goals satisfied: {node.reward_details['goal_reached'][1] if hasattr(node, 'reward_details') else 'N/A'}<br/>\"\n",
    "                              f\"Visited: {len(node.cum_rewards)}<br/>\"\n",
    "                              f\"UCT: {uct_value:.2f}</TD></TR></TABLE>\")\n",
    "            \n",
    "            dot.node(str(node.id), label=f'<{node_label}>', shape='plaintext')\n",
    "\n",
    "        for u, v, child, uct_value in edges:\n",
    "            action = child.action\n",
    "            Q = f\"{child.Q:.2f}\"\n",
    "            intuition = f\"{child.fast_reward_details['intuition']:.2f}\" if 'intuition' in child.fast_reward_details else 'N/A'\n",
    "            self_eval = f\"{child.fast_reward_details['self_eval']:.2f}\" if 'self_eval' in child.fast_reward_details else 'N/A'\n",
    "            \n",
    "            edge_label = (f\"A: {action}\\n\"\n",
    "                          f\"Q: {Q}\\n\"\n",
    "                          f\"Intuition: {intuition}\\n\"\n",
    "                          f\"Self-Eval: {self_eval}\\n\"\n",
    "                          f\"UCT: {uct_value:.2f}\")\n",
    "            dot.edge(str(u), str(v), label=edge_label)\n",
    "\n",
    "        dot.render(f'mcts_visualization_w_exp_{w_exp}.gv', view=True)\n",
    "        # Save the visualization as an image\n",
    "        dot.format = 'png'\n",
    "        dot.render(f'mcts_visualization_w_exp_{w_exp}', view=False)\n",
    "\n",
    "# Example usage\n",
    "temp_img_dir = 'temp_images'  # Temporary directory for storing images\n",
    "w_exp_values = [100.0]  # Example values to try\n",
    "# Assuming result_rap is properly initialized and available\n",
    "result_rap = pickle.load(open('/home/john/PhD/BISCUIT/llm-reasoners/logs/gridworld_MCTS/05312024-171447/algo_output/1.pkl', 'rb'))\n",
    "generate_visualizations(result_rap, w_exp_values, temp_img_dir)"
   ]
  },
  {
   "cell_type": "code",
   "execution_count": 22,
   "id": "1b34005e",
   "metadata": {},
   "outputs": [
    {
     "name": "stdout",
     "output_type": "stream",
     "text": [
      "Accuracy: 88.89%\n",
      "Result List: [True, False, True, True, True, True, True, True, True]\n",
      "Failed Filenames: ['3.pkl']\n"
     ]
    }
   ],
   "source": [
    "import pickle\n",
    "import os\n",
    "from typing import List, Tuple\n",
    "\n",
    "def check_goal_satisfied(node: MCTSNode, goal_value: float = 100.0) -> bool:\n",
    "    \"\"\"\n",
    "    Recursively check if any node in the MCTS tree has a goal satisfied value equal to the specified goal_value.\n",
    "    \n",
    "    :param node: The current node to check.\n",
    "    :param goal_value: The goal value to check against.\n",
    "    :return: True if any node satisfies the goal, otherwise False.\n",
    "    \"\"\"\n",
    "    if hasattr(node, 'reward_details') and node.reward_details['goal_reached'][1] == goal_value:\n",
    "        return True\n",
    "    if node.children:\n",
    "        for child in node.children:\n",
    "            if check_goal_satisfied(child, goal_value):\n",
    "                return True\n",
    "    return False\n",
    "\n",
    "def eval_outputs(directory: str, goal_value: float = 100.0) -> Tuple[float, List[bool], List[str]]:\n",
    "    \"\"\"\n",
    "    Evaluate all output files in the given directory to check if any node has a goal satisfied value of 100.0.\n",
    "    \n",
    "    :param directory: The directory containing the output files.\n",
    "    :param goal_value: The goal value to check against.\n",
    "    :return: A tuple containing the accuracy, a list of booleans indicating if each file satisfied the goal,\n",
    "             and a list of filenames of files that failed to satisfy the goal.\n",
    "    \"\"\"\n",
    "    total_files = 0\n",
    "    correct_files = 0\n",
    "    result_list = []\n",
    "    failed_filenames = []\n",
    "\n",
    "    for filename in os.listdir(directory):\n",
    "        if filename.endswith('.pkl'):\n",
    "            total_files += 1\n",
    "            file_path = os.path.join(directory, filename)\n",
    "            with open(file_path, 'rb') as file:\n",
    "                result = pickle.load(file)\n",
    "                goal_satisfied = check_goal_satisfied(result.tree_state, goal_value)\n",
    "                result_list.append(goal_satisfied)\n",
    "                if goal_satisfied:\n",
    "                    correct_files += 1\n",
    "                else:\n",
    "                    failed_filenames.append(filename)\n",
    "\n",
    "    accuracy = correct_files / total_files if total_files > 0 else 0.0\n",
    "    return accuracy, result_list, failed_filenames\n",
    "\n",
    "# Example usage\n",
    "directory = '/home/john/PhD/BISCUIT/llm-reasoners/logs/gridworld_MCTS/05312024-165635/algo_output'\n",
    "goal_value = 100.0\n",
    "accuracy, result_list, failed_filenames = eval_outputs(directory, goal_value)\n",
    "print(f\"Accuracy: {accuracy:.2%}\")\n",
    "print(f\"Result List: {result_list}\")\n",
    "print(f\"Failed Filenames: {failed_filenames}\")\n",
    "\n"
   ]
  },
  {
   "cell_type": "code",
   "execution_count": 37,
   "id": "23a7f9f5",
   "metadata": {},
   "outputs": [],
   "source": [
    "import torch\n",
    "a = torch.load('/home/john/PhD/BISCUIT/llm-reasoners/examples/gridworld/data/step_2.pth')"
   ]
  },
  {
   "cell_type": "code",
   "execution_count": null,
   "id": "cefd7a2e",
   "metadata": {},
   "outputs": [],
   "source": []
  }
 ],
 "metadata": {
  "kernelspec": {
   "display_name": "Python 3",
   "language": "python",
   "name": "python3"
  },
  "language_info": {
   "codemirror_mode": {
    "name": "ipython",
    "version": 3
   },
   "file_extension": ".py",
   "mimetype": "text/x-python",
   "name": "python",
   "nbconvert_exporter": "python",
   "pygments_lexer": "ipython3",
   "version": "3.11.5"
  }
 },
 "nbformat": 4,
 "nbformat_minor": 5
}
